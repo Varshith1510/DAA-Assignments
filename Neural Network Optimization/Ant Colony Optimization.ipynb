{
 "cells": [
  {
   "cell_type": "code",
   "execution_count": 73,
   "id": "80d41ef3",
   "metadata": {},
   "outputs": [],
   "source": [
    "# Importing the necessary libraries\n",
    "import numpy as np\n",
    "import pandas as pd\n",
    "import warnings    \n",
    "warnings.filterwarnings('ignore')"
   ]
  },
  {
   "cell_type": "code",
   "execution_count": 74,
   "id": "d9631c01",
   "metadata": {},
   "outputs": [
    {
     "name": "stdout",
     "output_type": "stream",
     "text": [
      "<class 'pandas.core.frame.DataFrame'>\n",
      "RangeIndex: 5000 entries, 0 to 4999\n",
      "Data columns (total 14 columns):\n",
      " #   Column              Non-Null Count  Dtype  \n",
      "---  ------              --------------  -----  \n",
      " 0   ID                  5000 non-null   int64  \n",
      " 1   Age                 5000 non-null   int64  \n",
      " 2   Experience          5000 non-null   int64  \n",
      " 3   Income              5000 non-null   int64  \n",
      " 4   ZIP Code            5000 non-null   int64  \n",
      " 5   Family              5000 non-null   int64  \n",
      " 6   CCAvg               5000 non-null   float64\n",
      " 7   Education           5000 non-null   int64  \n",
      " 8   Mortgage            5000 non-null   int64  \n",
      " 9   Personal Loan       5000 non-null   int64  \n",
      " 10  Securities Account  5000 non-null   int64  \n",
      " 11  CD Account          5000 non-null   int64  \n",
      " 12  Online              5000 non-null   int64  \n",
      " 13  CreditCard          5000 non-null   int64  \n",
      "dtypes: float64(1), int64(13)\n",
      "memory usage: 547.0 KB\n"
     ]
    }
   ],
   "source": [
    "# Reading the dataset\n",
    "df = pd.read_csv('Bank_Personal_Loan_Modelling.csv')\n",
    "df.info()"
   ]
  },
  {
   "cell_type": "markdown",
   "id": "31c9e69c",
   "metadata": {},
   "source": [
    "##### Data preprocessing"
   ]
  },
  {
   "cell_type": "code",
   "execution_count": 75,
   "id": "d90f4968",
   "metadata": {},
   "outputs": [],
   "source": [
    "# Dropping the unnecessary columns\n",
    "df.drop(columns = ['ZIP Code'],inplace = True)\n",
    "df.drop_duplicates(inplace = True)"
   ]
  },
  {
   "cell_type": "code",
   "execution_count": 76,
   "id": "c3ad7a6e",
   "metadata": {},
   "outputs": [],
   "source": [
    "# Shifting the target variable to the last column \n",
    "columns = ['ID','Age', 'Experience', 'Income', 'Family', 'CCAvg', 'Education',\n",
    "       'Mortgage','Securities Account', 'CD Account',\n",
    "       'Online', 'CreditCard', 'Personal Loan']\n",
    "df = df[columns]"
   ]
  },
  {
   "cell_type": "code",
   "execution_count": 77,
   "id": "5ee062e6",
   "metadata": {},
   "outputs": [],
   "source": [
    "# Splitting the independent & dependent features\n",
    "x = df.iloc[:,:-1].values\n",
    "y = df.iloc[:,-1].values"
   ]
  },
  {
   "cell_type": "code",
   "execution_count": 78,
   "id": "c4df29ad",
   "metadata": {},
   "outputs": [],
   "source": [
    "# Performing the train test split\n",
    "from sklearn.model_selection import train_test_split\n",
    "\n",
    "x_train,x_test,y_train,y_test = train_test_split(x,y,test_size = 0.30,random_state = 45)"
   ]
  },
  {
   "cell_type": "markdown",
   "id": "f616491d",
   "metadata": {},
   "source": [
    "##### Neural Network"
   ]
  },
  {
   "cell_type": "code",
   "execution_count": 79,
   "id": "c660c948",
   "metadata": {},
   "outputs": [],
   "source": [
    "learning_rate = 0.05"
   ]
  },
  {
   "cell_type": "code",
   "execution_count": 80,
   "id": "0eabb71e",
   "metadata": {},
   "outputs": [],
   "source": [
    "def sigmoid(x):\n",
    "    return (1/(1+np.exp(-1*x)))"
   ]
  },
  {
   "cell_type": "code",
   "execution_count": 81,
   "id": "e2838183",
   "metadata": {},
   "outputs": [],
   "source": [
    "def derivative_sigmoid(x):\n",
    "    return sigmoid(x) *(1-sigmoid(x))"
   ]
  },
  {
   "cell_type": "code",
   "execution_count": 82,
   "id": "4643d242",
   "metadata": {},
   "outputs": [],
   "source": [
    "# Initializing the weights randomly\n",
    "input_weights = np.random.rand(1,12) # The input layer consists of 12 neurons so we take 12 random weights\n",
    "hidden_weights = np.random.rand(1,4) # The hidden layer consists of 6 neurons so we take 6 random weights"
   ]
  },
  {
   "cell_type": "code",
   "execution_count": 83,
   "id": "daee8e85",
   "metadata": {},
   "outputs": [],
   "source": [
    "def model(new_input_weight,new_hidden_weight,x_train,y_train,learning_rate):\n",
    "\n",
    "    # Forward Propagation\n",
    "\n",
    "    input_layer1 = input_weights*x_train # Multiplying the input data with weights(cross product)\n",
    "    input_layer2 = input_layer1.reshape(input_layer1.shape[0],4,3).sum(axis = 2) # Converting the dimension for hidden layer\n",
    "    input_layer3 = sigmoid(input_layer2) # Passing through the activation function\n",
    "    hidden_layer1 = hidden_weights*input_layer3  # Multiplying the data from activation fn with weights(cross product)\n",
    "    hidden_layer2 = hidden_layer1.reshape(hidden_layer1.shape[0],1,4).sum(axis = 2) # Converting the dimension for output layer\n",
    "    output_layer1 = sigmoid(hidden_layer2) # Passing through the activation function\n",
    "\n",
    "    # Backward Propagation\n",
    "\n",
    "    error = output_layer1 - y_train # Error in prediction\n",
    "    delta_hidden = -1 * derivative_sigmoid(hidden_layer1) * input_layer3\n",
    "    delta_hidden = (delta_hidden.sum(axis = 0)/output_layer1.shape[0]).reshape(1,4)\n",
    "    new_hidden_weight = hidden_weights + (learning_rate * delta_hidden)\n",
    "    new_weight = (np.ones((4,3)) * (new_hidden_weight.reshape(4,1))).reshape(1,12)\n",
    "    delta_input = ((-1 * (new_weight) * (derivative_sigmoid(input_layer1)) * x_train).sum(axis=0) / (output_layer1.shape[0])).reshape(1,12)\n",
    "    new_input_weight = new_input_weight + (learning_rate * delta_input)\n",
    "    out = {\"input_weight\" : new_input_weight,\n",
    "            \"hidden_weight\" : new_hidden_weight}\n",
    "    return out"
   ]
  },
  {
   "cell_type": "code",
   "execution_count": 84,
   "id": "b34cd183",
   "metadata": {},
   "outputs": [],
   "source": [
    "from sklearn.metrics import accuracy_score\n",
    "def predict(weights,x_test,y_test):\n",
    "\n",
    "    input_weight = weights['input_weight']\n",
    "    hidden_weight = weights['hidden_weight']\n",
    "    input_layer = input_weight * x_test # Multiplying the input data with weights(cross product)\n",
    "    input_layer = input_layer.reshape(input_layer.shape[0],4,3).sum(axis=2)\n",
    "    input_layer = sigmoid(input_layer)  # Passing through the activation function\n",
    "    hidden_layer = hidden_weight * input_layer # Multiplying the data from activation fn with weights(cross product)\n",
    "    hidden_layer = hidden_layer.reshape(hidden_layer.shape[0],1,4).sum(axis=2)\n",
    "    output_layer = np.floor(sigmoid(hidden_layer))  # Passing through the activation function\n",
    "    \n",
    "    return accuracy_score(output_layer,y_test)*100"
   ]
  },
  {
   "cell_type": "code",
   "execution_count": 85,
   "id": "00c08cd9",
   "metadata": {},
   "outputs": [],
   "source": [
    "weights = model(input_weights,hidden_weights,x_train,y_train,learning_rate)"
   ]
  },
  {
   "cell_type": "code",
   "execution_count": 86,
   "id": "c5020ccb",
   "metadata": {},
   "outputs": [
    {
     "name": "stdout",
     "output_type": "stream",
     "text": [
      "Accuracy score:  89.2\n"
     ]
    }
   ],
   "source": [
    "output = predict(weights,x_test,y_test)\n",
    "print(\"Accuracy score: \",round(output,2))"
   ]
  },
  {
   "cell_type": "markdown",
   "id": "5b1b9e0d",
   "metadata": {},
   "source": [
    "##### Weight Optimization using Ant Colony "
   ]
  },
  {
   "cell_type": "code",
   "execution_count": 87,
   "id": "663e57cb",
   "metadata": {},
   "outputs": [],
   "source": [
    "def ConvertToMatrix(solution):\n",
    "    weight = {'input_weight':(solution.reshape(4,4)[:3]).reshape(1,12),\n",
    "             'hidden_weight': solution.reshape(4,4)[-1]}\n",
    "    return weight"
   ]
  },
  {
   "cell_type": "code",
   "execution_count": 88,
   "id": "55108902",
   "metadata": {},
   "outputs": [],
   "source": [
    "def fitness_function(population,x,y):\n",
    "    # Here we consider the accuracy of the model with a particular set of weights to be the fitness function\n",
    "    fitness_score = []\n",
    "    for solution in population: # We take each set of weights and compute the accuracy \n",
    "        sol = ConvertToMatrix(solution)\n",
    "        fitness_score.append(predict(sol,x,y)) # Returns the accuracy score that set of weights\n",
    "    return fitness_score"
   ]
  },
  {
   "cell_type": "code",
   "execution_count": 89,
   "id": "8a70e2d4",
   "metadata": {},
   "outputs": [],
   "source": [
    "# Generating the population\n",
    "population_size = 10\n",
    "population = []\n",
    "for path in range(population_size):\n",
    "    # Initializing the population with random weights\n",
    "    weights = np.random.rand(1,16)\n",
    "    population.append(weights)\n",
    "\n",
    "# Calculating the accuracy for each path in the population\n",
    "accuracy = np.array(fitness_function(population,x_test,y_test)) * 0.01\n",
    "population = np.array(population)\n",
    "column = sorted(list(set(list(population.reshape(160,)))))\n",
    "\n",
    "# Cost matrix\n",
    "cost_matrix = np.zeros((160,160))\n",
    "#Pheromone matrix\n",
    "pheromone_matrix = np.ones((160,160))"
   ]
  },
  {
   "cell_type": "code",
   "execution_count": 90,
   "id": "1f04be6f",
   "metadata": {},
   "outputs": [],
   "source": [
    "parameter = np.random.rand() #rho parameter"
   ]
  },
  {
   "cell_type": "code",
   "execution_count": 91,
   "id": "67bd1427",
   "metadata": {},
   "outputs": [],
   "source": [
    "def metrics(weights,x_test,y_test):\n",
    "    report = []\n",
    "    for individual in weights:\n",
    "        weight = ConvertToMatrix(individual)\n",
    "        accuracy = fitness_function([individual],x_test,y_test)[0]\n",
    "        report.append((weight,accuracy))\n",
    "    return report "
   ]
  },
  {
   "cell_type": "code",
   "execution_count": 92,
   "id": "687740df",
   "metadata": {},
   "outputs": [],
   "source": [
    "# Populating the cost matrix\n",
    "for weight in range(10):\n",
    "    i = population[weight] \n",
    "    for j in range(0,15):\n",
    "        cost_matrix[column.index(i[0][j])][column.index(i[0][j+1])] = 1 / accuracy[weight]"
   ]
  },
  {
   "cell_type": "code",
   "execution_count": 93,
   "id": "fe20406b",
   "metadata": {},
   "outputs": [],
   "source": [
    "# Generating a path\n",
    "def path_cost(cost_matrix,pheromone_matrix,initial_node,neighbours,column):\n",
    "    probabilities =[] # Contains the probability of taking a path\n",
    "    cost = 0\n",
    "    initial_node = column.index(initial_node)\n",
    "    for neighbour in neighbours:\n",
    "        weight = column.index(neighbour)\n",
    "        cost += (pheromone_matrix[initial_node][weight] * cost_matrix[initial_node][weight]) \n",
    "    for neighbour in neighbours:\n",
    "        probabilities.append((pheromone_matrix[initial_node][weight] * cost_matrix[initial_node][weight])/cost)\n",
    "    temp  = np.random.rand()\n",
    "    for probability in range(len(probabilities)):\n",
    "        if probabilities[probability] >= temp:\n",
    "            return neighbours[probability]\n",
    "    return neighbours[0]"
   ]
  },
  {
   "cell_type": "code",
   "execution_count": 94,
   "id": "561f2ffd",
   "metadata": {},
   "outputs": [],
   "source": [
    "# To find the neighbours of a node\n",
    "def neighbours(population,initial_node):\n",
    "    neighbour = []\n",
    "    for j in population:\n",
    "        for i in range(16):\n",
    "            temp = j[0][i]\n",
    "            if(temp == initial_node):\n",
    "                if(i!=15 and j[0][i+1] not in neighbour):\n",
    "                    neighbour.append(j[0][i+1])\n",
    "                if(i!=0 and j[0][i-1] not in neighbour):\n",
    "                    neighbour.append(j[0][i-1])\n",
    "    return neighbour"
   ]
  },
  {
   "cell_type": "code",
   "execution_count": 95,
   "id": "6d040ea4",
   "metadata": {},
   "outputs": [],
   "source": [
    "def modify_pheromone_level(pheromone_matrix,initial_node,next_node,column):\n",
    "    #If a path is chosen, then the pheromone level in that path is increased by 1\n",
    "    pheromone_matrix[column.index(initial_node)][column.index(next_node)] += 1\n",
    "    return pheromone_matrix"
   ]
  },
  {
   "cell_type": "code",
   "execution_count": 96,
   "id": "9fa53d3c",
   "metadata": {},
   "outputs": [],
   "source": [
    "def decay_rate(parameter,cost_matrix,pheromone_matrix):\n",
    "    # Decay rate for the pheromones\n",
    "    for i in range(pheromone_matrix.shape[0]):\n",
    "        for j in range(pheromone_matrix.shape[1]): \n",
    "            pheromone_matrix[i][j] = (1-parameter) * pheromone_matrix[i][j] + cost_matrix[i][j] \n",
    "    return pheromone_matrix"
   ]
  },
  {
   "cell_type": "code",
   "execution_count": 97,
   "id": "3c4c1b9c",
   "metadata": {},
   "outputs": [],
   "source": [
    "def sorting_criteria(metrics):\n",
    "    return metrics[1]"
   ]
  },
  {
   "cell_type": "code",
   "execution_count": 98,
   "id": "f047f15e",
   "metadata": {},
   "outputs": [],
   "source": [
    "def Ant_Colony(population_size,population,column,cost_matrix,pheromone_matrix,parameter,x,y,epoch):\n",
    "    list_of_paths = [] # Contains the list of all paths\n",
    "    for i in range(epoch):\n",
    "        # Getting the start node from the list of weights\n",
    "        initial_node = np.random.randint(0,len(column)) \n",
    "        path = [] # Contains the path\n",
    "        path.append(column[initial_node])\n",
    "        initial_node = column[initial_node]\n",
    "        for i in range(15):\n",
    "            # Gives the list of neighbours close to the initial node\n",
    "            neighbour = neighbours(population,initial_node) \n",
    "            # The node to which the ant moves from initial node\n",
    "            next_node = path_cost(cost_matrix,pheromone_matrix,initial_node,neighbour,column) \n",
    "            # Increasing the pheromone level in the path chosen by the ant\n",
    "            pheromone  = modify_pheromone_level(pheromone_matrix,initial_node,next_node,column)\n",
    "            # Decaying of pheromone level\n",
    "            pheromone = decay_rate(parameter,cost_matrix,pheromone_matrix) \n",
    "            # Adding the next node to the current path\n",
    "            path.append(next_node) \n",
    "            # Updating the start node as the next node\n",
    "            initial_node = next_node \n",
    "        path  = np.array(path)\n",
    "        list_of_paths.append(path) # Adding the path to the list containing all the paths\n",
    "    list_of_paths = list(np.array(list_of_paths).reshape(len(list_of_paths),1,16))\n",
    "    return metrics(list_of_paths,x,y) # Returns the accuracy associated with those videos"
   ]
  },
  {
   "cell_type": "code",
   "execution_count": 99,
   "id": "a3757571",
   "metadata": {},
   "outputs": [
    {
     "name": "stdout",
     "output_type": "stream",
     "text": [
      "({'input_weight': array([[0.6979515 , 0.36220984, 0.58777186, 0.3179276 , 0.0247092 ,\n",
      "        0.57352694, 0.35620501, 0.71465707, 0.34905706, 0.56866994,\n",
      "        0.34905706, 0.56866994]]), 'hidden_weight': array([0.34905706, 0.56866994, 0.34905706, 0.56866994])}, 89.2)\n"
     ]
    }
   ],
   "source": [
    "metrics = Ant_Colony(population_size,population,column,cost_matrix,pheromone_matrix,parameter,x_test,y_test,100)\n",
    "metrics = sorted(metrics,key = sorting_criteria,reverse=True)[0]\n",
    "print(metrics)"
   ]
  }
 ],
 "metadata": {
  "kernelspec": {
   "display_name": "Python 3 (ipykernel)",
   "language": "python",
   "name": "python3"
  },
  "language_info": {
   "codemirror_mode": {
    "name": "ipython",
    "version": 3
   },
   "file_extension": ".py",
   "mimetype": "text/x-python",
   "name": "python",
   "nbconvert_exporter": "python",
   "pygments_lexer": "ipython3",
   "version": "3.9.7"
  }
 },
 "nbformat": 4,
 "nbformat_minor": 5
}
